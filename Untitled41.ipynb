{
 "cells": [
  {
   "cell_type": "code",
   "execution_count": 56,
   "metadata": {},
   "outputs": [],
   "source": [
    "import pandas as pd\n",
    "import numpy as np\n",
    "import matplotlib.pyplot as plt\n",
    "%matplotlib inline\n",
    "import seaborn as sn \n",
    "from datetime import datetime\n",
    "from pandas import Series\n",
    "import pickle"
   ]
  },
  {
   "cell_type": "code",
   "execution_count": 57,
   "metadata": {},
   "outputs": [
    {
     "data": {
      "text/html": [
       "<div>\n",
       "<style scoped>\n",
       "    .dataframe tbody tr th:only-of-type {\n",
       "        vertical-align: middle;\n",
       "    }\n",
       "\n",
       "    .dataframe tbody tr th {\n",
       "        vertical-align: top;\n",
       "    }\n",
       "\n",
       "    .dataframe thead th {\n",
       "        text-align: right;\n",
       "    }\n",
       "</style>\n",
       "<table border=\"1\" class=\"dataframe\">\n",
       "  <thead>\n",
       "    <tr style=\"text-align: right;\">\n",
       "      <th></th>\n",
       "      <th>fixedacidity</th>\n",
       "      <th>volatileacidity</th>\n",
       "      <th>citricacid</th>\n",
       "      <th>residualsugar</th>\n",
       "      <th>chlorides</th>\n",
       "      <th>freesulfurdioxide</th>\n",
       "      <th>totalsulfurdioxide</th>\n",
       "      <th>density</th>\n",
       "      <th>pH</th>\n",
       "      <th>sulphates</th>\n",
       "      <th>alcohol</th>\n",
       "      <th>quality</th>\n",
       "    </tr>\n",
       "  </thead>\n",
       "  <tbody>\n",
       "    <tr>\n",
       "      <td>0</td>\n",
       "      <td>7.4</td>\n",
       "      <td>0.70</td>\n",
       "      <td>0.0</td>\n",
       "      <td>1.9</td>\n",
       "      <td>0.076</td>\n",
       "      <td>11.0</td>\n",
       "      <td>34.0</td>\n",
       "      <td>0.9978</td>\n",
       "      <td>3.51</td>\n",
       "      <td>0.56</td>\n",
       "      <td>9.4</td>\n",
       "      <td>5</td>\n",
       "    </tr>\n",
       "    <tr>\n",
       "      <td>1</td>\n",
       "      <td>7.8</td>\n",
       "      <td>0.88</td>\n",
       "      <td>0.0</td>\n",
       "      <td>2.6</td>\n",
       "      <td>0.098</td>\n",
       "      <td>25.0</td>\n",
       "      <td>67.0</td>\n",
       "      <td>0.9968</td>\n",
       "      <td>3.20</td>\n",
       "      <td>0.68</td>\n",
       "      <td>9.8</td>\n",
       "      <td>5</td>\n",
       "    </tr>\n",
       "  </tbody>\n",
       "</table>\n",
       "</div>"
      ],
      "text/plain": [
       "   fixedacidity  volatileacidity  citricacid  residualsugar  chlorides  \\\n",
       "0           7.4             0.70         0.0            1.9      0.076   \n",
       "1           7.8             0.88         0.0            2.6      0.098   \n",
       "\n",
       "   freesulfurdioxide  totalsulfurdioxide  density    pH  sulphates  alcohol  \\\n",
       "0               11.0                34.0   0.9978  3.51       0.56      9.4   \n",
       "1               25.0                67.0   0.9968  3.20       0.68      9.8   \n",
       "\n",
       "   quality  \n",
       "0        5  \n",
       "1        5  "
      ]
     },
     "execution_count": 57,
     "metadata": {},
     "output_type": "execute_result"
    }
   ],
   "source": [
    "df=pd.read_csv(\"wine.csv\")\n",
    "df.head(2)"
   ]
  },
  {
   "cell_type": "code",
   "execution_count": 58,
   "metadata": {},
   "outputs": [
    {
     "data": {
      "text/plain": [
       "Index(['fixedacidity', 'volatileacidity', 'citricacid', 'residualsugar',\n",
       "       'chlorides', 'freesulfurdioxide', 'totalsulfurdioxide', 'density', 'pH',\n",
       "       'sulphates', 'alcohol', 'quality'],\n",
       "      dtype='object')"
      ]
     },
     "execution_count": 58,
     "metadata": {},
     "output_type": "execute_result"
    }
   ],
   "source": [
    "df.columns"
   ]
  },
  {
   "cell_type": "code",
   "execution_count": 59,
   "metadata": {},
   "outputs": [
    {
     "data": {
      "text/plain": [
       "fixedacidity          float64\n",
       "volatileacidity       float64\n",
       "citricacid            float64\n",
       "residualsugar         float64\n",
       "chlorides             float64\n",
       "freesulfurdioxide     float64\n",
       "totalsulfurdioxide    float64\n",
       "density               float64\n",
       "pH                    float64\n",
       "sulphates             float64\n",
       "alcohol               float64\n",
       "quality                 int64\n",
       "dtype: object"
      ]
     },
     "execution_count": 59,
     "metadata": {},
     "output_type": "execute_result"
    }
   ],
   "source": [
    "df.dtypes"
   ]
  },
  {
   "cell_type": "code",
   "execution_count": 60,
   "metadata": {},
   "outputs": [
    {
     "data": {
      "text/plain": [
       "(1599, 12)"
      ]
     },
     "execution_count": 60,
     "metadata": {},
     "output_type": "execute_result"
    }
   ],
   "source": [
    "df.shape"
   ]
  },
  {
   "cell_type": "code",
   "execution_count": 61,
   "metadata": {},
   "outputs": [
    {
     "data": {
      "text/html": [
       "<div>\n",
       "<style scoped>\n",
       "    .dataframe tbody tr th:only-of-type {\n",
       "        vertical-align: middle;\n",
       "    }\n",
       "\n",
       "    .dataframe tbody tr th {\n",
       "        vertical-align: top;\n",
       "    }\n",
       "\n",
       "    .dataframe thead th {\n",
       "        text-align: right;\n",
       "    }\n",
       "</style>\n",
       "<table border=\"1\" class=\"dataframe\">\n",
       "  <thead>\n",
       "    <tr style=\"text-align: right;\">\n",
       "      <th></th>\n",
       "      <th>fixedacidity</th>\n",
       "      <th>volatileacidity</th>\n",
       "      <th>citricacid</th>\n",
       "      <th>residualsugar</th>\n",
       "      <th>chlorides</th>\n",
       "      <th>freesulfurdioxide</th>\n",
       "      <th>totalsulfurdioxide</th>\n",
       "      <th>density</th>\n",
       "      <th>pH</th>\n",
       "      <th>sulphates</th>\n",
       "      <th>alcohol</th>\n",
       "      <th>quality</th>\n",
       "    </tr>\n",
       "  </thead>\n",
       "  <tbody>\n",
       "    <tr>\n",
       "      <td>count</td>\n",
       "      <td>1599.000000</td>\n",
       "      <td>1599.000000</td>\n",
       "      <td>1599.000000</td>\n",
       "      <td>1599.000000</td>\n",
       "      <td>1599.000000</td>\n",
       "      <td>1599.000000</td>\n",
       "      <td>1599.000000</td>\n",
       "      <td>1599.000000</td>\n",
       "      <td>1599.000000</td>\n",
       "      <td>1599.000000</td>\n",
       "      <td>1599.000000</td>\n",
       "      <td>1599.000000</td>\n",
       "    </tr>\n",
       "    <tr>\n",
       "      <td>mean</td>\n",
       "      <td>8.319637</td>\n",
       "      <td>0.527821</td>\n",
       "      <td>0.270976</td>\n",
       "      <td>2.538806</td>\n",
       "      <td>0.087467</td>\n",
       "      <td>15.874922</td>\n",
       "      <td>46.467792</td>\n",
       "      <td>0.996747</td>\n",
       "      <td>3.311113</td>\n",
       "      <td>0.658149</td>\n",
       "      <td>10.422983</td>\n",
       "      <td>5.636023</td>\n",
       "    </tr>\n",
       "    <tr>\n",
       "      <td>std</td>\n",
       "      <td>1.741096</td>\n",
       "      <td>0.179060</td>\n",
       "      <td>0.194801</td>\n",
       "      <td>1.409928</td>\n",
       "      <td>0.047065</td>\n",
       "      <td>10.460157</td>\n",
       "      <td>32.895324</td>\n",
       "      <td>0.001887</td>\n",
       "      <td>0.154386</td>\n",
       "      <td>0.169507</td>\n",
       "      <td>1.065668</td>\n",
       "      <td>0.807569</td>\n",
       "    </tr>\n",
       "    <tr>\n",
       "      <td>min</td>\n",
       "      <td>4.600000</td>\n",
       "      <td>0.120000</td>\n",
       "      <td>0.000000</td>\n",
       "      <td>0.900000</td>\n",
       "      <td>0.012000</td>\n",
       "      <td>1.000000</td>\n",
       "      <td>6.000000</td>\n",
       "      <td>0.990070</td>\n",
       "      <td>2.740000</td>\n",
       "      <td>0.330000</td>\n",
       "      <td>8.400000</td>\n",
       "      <td>3.000000</td>\n",
       "    </tr>\n",
       "    <tr>\n",
       "      <td>25%</td>\n",
       "      <td>7.100000</td>\n",
       "      <td>0.390000</td>\n",
       "      <td>0.090000</td>\n",
       "      <td>1.900000</td>\n",
       "      <td>0.070000</td>\n",
       "      <td>7.000000</td>\n",
       "      <td>22.000000</td>\n",
       "      <td>0.995600</td>\n",
       "      <td>3.210000</td>\n",
       "      <td>0.550000</td>\n",
       "      <td>9.500000</td>\n",
       "      <td>5.000000</td>\n",
       "    </tr>\n",
       "    <tr>\n",
       "      <td>50%</td>\n",
       "      <td>7.900000</td>\n",
       "      <td>0.520000</td>\n",
       "      <td>0.260000</td>\n",
       "      <td>2.200000</td>\n",
       "      <td>0.079000</td>\n",
       "      <td>14.000000</td>\n",
       "      <td>38.000000</td>\n",
       "      <td>0.996750</td>\n",
       "      <td>3.310000</td>\n",
       "      <td>0.620000</td>\n",
       "      <td>10.200000</td>\n",
       "      <td>6.000000</td>\n",
       "    </tr>\n",
       "    <tr>\n",
       "      <td>75%</td>\n",
       "      <td>9.200000</td>\n",
       "      <td>0.640000</td>\n",
       "      <td>0.420000</td>\n",
       "      <td>2.600000</td>\n",
       "      <td>0.090000</td>\n",
       "      <td>21.000000</td>\n",
       "      <td>62.000000</td>\n",
       "      <td>0.997835</td>\n",
       "      <td>3.400000</td>\n",
       "      <td>0.730000</td>\n",
       "      <td>11.100000</td>\n",
       "      <td>6.000000</td>\n",
       "    </tr>\n",
       "    <tr>\n",
       "      <td>max</td>\n",
       "      <td>15.900000</td>\n",
       "      <td>1.580000</td>\n",
       "      <td>1.000000</td>\n",
       "      <td>15.500000</td>\n",
       "      <td>0.611000</td>\n",
       "      <td>72.000000</td>\n",
       "      <td>289.000000</td>\n",
       "      <td>1.003690</td>\n",
       "      <td>4.010000</td>\n",
       "      <td>2.000000</td>\n",
       "      <td>14.900000</td>\n",
       "      <td>8.000000</td>\n",
       "    </tr>\n",
       "  </tbody>\n",
       "</table>\n",
       "</div>"
      ],
      "text/plain": [
       "       fixedacidity  volatileacidity   citricacid  residualsugar    chlorides  \\\n",
       "count   1599.000000      1599.000000  1599.000000    1599.000000  1599.000000   \n",
       "mean       8.319637         0.527821     0.270976       2.538806     0.087467   \n",
       "std        1.741096         0.179060     0.194801       1.409928     0.047065   \n",
       "min        4.600000         0.120000     0.000000       0.900000     0.012000   \n",
       "25%        7.100000         0.390000     0.090000       1.900000     0.070000   \n",
       "50%        7.900000         0.520000     0.260000       2.200000     0.079000   \n",
       "75%        9.200000         0.640000     0.420000       2.600000     0.090000   \n",
       "max       15.900000         1.580000     1.000000      15.500000     0.611000   \n",
       "\n",
       "       freesulfurdioxide  totalsulfurdioxide      density           pH  \\\n",
       "count        1599.000000         1599.000000  1599.000000  1599.000000   \n",
       "mean           15.874922           46.467792     0.996747     3.311113   \n",
       "std            10.460157           32.895324     0.001887     0.154386   \n",
       "min             1.000000            6.000000     0.990070     2.740000   \n",
       "25%             7.000000           22.000000     0.995600     3.210000   \n",
       "50%            14.000000           38.000000     0.996750     3.310000   \n",
       "75%            21.000000           62.000000     0.997835     3.400000   \n",
       "max            72.000000          289.000000     1.003690     4.010000   \n",
       "\n",
       "         sulphates      alcohol      quality  \n",
       "count  1599.000000  1599.000000  1599.000000  \n",
       "mean      0.658149    10.422983     5.636023  \n",
       "std       0.169507     1.065668     0.807569  \n",
       "min       0.330000     8.400000     3.000000  \n",
       "25%       0.550000     9.500000     5.000000  \n",
       "50%       0.620000    10.200000     6.000000  \n",
       "75%       0.730000    11.100000     6.000000  \n",
       "max       2.000000    14.900000     8.000000  "
      ]
     },
     "execution_count": 61,
     "metadata": {},
     "output_type": "execute_result"
    }
   ],
   "source": [
    "df.describe()"
   ]
  },
  {
   "cell_type": "code",
   "execution_count": 62,
   "metadata": {},
   "outputs": [],
   "source": [
    "X=df[['fixedacidity', 'volatileacidity', 'citricacid', 'residualsugar','chlorides', 'freesulfurdioxide']]\n",
    "y=df['quality']"
   ]
  },
  {
   "cell_type": "code",
   "execution_count": 63,
   "metadata": {},
   "outputs": [],
   "source": [
    "from sklearn.model_selection import train_test_split\n",
    "X_train,X_test,y_train,y_test=train_test_split(X,y,test_size=0.3)"
   ]
  },
  {
   "cell_type": "code",
   "execution_count": 43,
   "metadata": {},
   "outputs": [],
   "source": [
    "from sklearn.preprocessing import StandardScaler\n",
    "sc=StandardScaler()\n",
    "X_train=sc.fit_transform(X_train)\n",
    "X_test=sc.fit_transform(X_test)"
   ]
  },
  {
   "cell_type": "code",
   "execution_count": 78,
   "metadata": {},
   "outputs": [
    {
     "data": {
      "text/plain": [
       "RandomForestClassifier()"
      ]
     },
     "execution_count": 78,
     "metadata": {},
     "output_type": "execute_result"
    }
   ],
   "source": [
    "from sklearn.ensemble import RandomForestClassifier\n",
    "model1=RandomForestClassifier()\n",
    "model1.fit(X_train,y_train)"
   ]
  },
  {
   "cell_type": "code",
   "execution_count": 79,
   "metadata": {},
   "outputs": [
    {
     "data": {
      "text/plain": [
       "0.625"
      ]
     },
     "execution_count": 79,
     "metadata": {},
     "output_type": "execute_result"
    }
   ],
   "source": [
    "model1.score(X_test,y_test)"
   ]
  },
  {
   "cell_type": "code",
   "execution_count": 80,
   "metadata": {},
   "outputs": [
    {
     "data": {
      "text/plain": [
       "array([5, 7, 5, 5, 5, 5, 5, 6, 6, 6, 5, 5, 5, 6, 6, 6, 5, 5, 5, 6, 5, 5,\n",
       "       5, 6, 5, 6, 7, 5, 6, 5, 7, 6, 5, 6, 5, 5, 6, 6, 7, 5, 6, 7, 5, 5,\n",
       "       6, 5, 5, 5, 6, 6, 7, 5, 7, 5, 6, 6, 5, 5, 5, 6, 6, 5, 6, 6, 7, 5,\n",
       "       6, 5, 6, 5, 6, 6, 5, 6, 5, 6, 7, 6, 5, 5, 6, 5, 6, 5, 6, 5, 5, 5,\n",
       "       5, 6, 6, 7, 5, 6, 7, 6, 6, 5, 7, 6, 6, 6, 5, 6, 6, 5, 6, 6, 5, 6,\n",
       "       6, 6, 6, 5, 6, 7, 5, 7, 6, 5, 7, 5, 5, 7, 6, 6, 5, 5, 7, 6, 5, 5,\n",
       "       5, 5, 5, 6, 5, 5, 5, 6, 5, 5, 5, 6, 6, 6, 6, 5, 5, 5, 5, 5, 6, 7,\n",
       "       5, 5, 6, 7, 6, 7, 5, 6, 5, 5, 6, 5, 6, 5, 5, 6, 5, 5, 6, 5, 5, 5,\n",
       "       5, 5, 6, 6, 5, 6, 5, 6, 5, 6, 7, 6, 6, 5, 6, 5, 5, 6, 6, 6, 6, 6,\n",
       "       5, 6, 5, 5, 5, 5, 6, 5, 7, 5, 5, 5, 6, 5, 6, 6, 6, 7, 5, 6, 5, 7,\n",
       "       5, 5, 5, 6, 5, 6, 7, 5, 5, 6, 7, 6, 6, 5, 6, 6, 5, 5, 5, 7, 6, 5,\n",
       "       6, 6, 5, 6, 5, 6, 6, 6, 5, 6, 6, 7, 5, 6, 5, 5, 5, 5, 6, 6, 6, 6,\n",
       "       5, 6, 5, 4, 5, 5, 6, 7, 5, 6, 5, 6, 6, 6, 5, 5, 6, 6, 6, 6, 5, 6,\n",
       "       7, 6, 5, 6, 6, 6, 5, 6, 6, 5, 6, 5, 5, 5, 6, 5, 6, 6, 7, 5, 5, 6,\n",
       "       5, 5, 6, 5, 5, 6, 6, 6, 5, 6, 5, 6, 7, 6, 5, 6, 7, 5, 5, 5, 6, 6,\n",
       "       5, 6, 6, 6, 5, 5, 5, 6, 6, 6, 5, 5, 6, 6, 5, 5, 5, 5, 5, 5, 5, 5,\n",
       "       5, 5, 6, 6, 5, 6, 6, 6, 5, 6, 6, 6, 6, 5, 7, 7, 5, 6, 5, 5, 7, 6,\n",
       "       5, 6, 6, 5, 6, 6, 7, 7, 5, 5, 6, 6, 5, 6, 7, 7, 6, 5, 6, 7, 5, 5,\n",
       "       7, 6, 6, 6, 5, 6, 5, 6, 5, 5, 6, 7, 5, 5, 6, 5, 5, 5, 5, 6, 6, 5,\n",
       "       6, 6, 6, 6, 6, 5, 6, 5, 5, 6, 5, 5, 5, 5, 5, 5, 5, 6, 6, 6, 5, 5,\n",
       "       5, 5, 6, 6, 6, 5, 5, 6, 6, 5, 5, 5, 5, 7, 6, 5, 5, 6, 6, 6, 5, 6,\n",
       "       5, 6, 5, 6, 6, 5, 6, 6, 5, 6, 5, 5, 6, 5, 6, 6, 5, 5], dtype=int64)"
      ]
     },
     "execution_count": 80,
     "metadata": {},
     "output_type": "execute_result"
    }
   ],
   "source": [
    "model1.predict(X_test)"
   ]
  },
  {
   "cell_type": "code",
   "execution_count": 82,
   "metadata": {},
   "outputs": [],
   "source": [
    "y_predict=model1.predict(X_test)"
   ]
  },
  {
   "cell_type": "code",
   "execution_count": 83,
   "metadata": {},
   "outputs": [
    {
     "data": {
      "text/plain": [
       "array([[  0,   0,   1,   1,   0,   0],\n",
       "       [  0,   1,  16,   4,   1,   0],\n",
       "       [  0,   0, 147,  51,   5,   0],\n",
       "       [  0,   0,  54, 122,   7,   0],\n",
       "       [  0,   0,   8,  26,  30,   0],\n",
       "       [  0,   0,   1,   4,   1,   0]], dtype=int64)"
      ]
     },
     "execution_count": 83,
     "metadata": {},
     "output_type": "execute_result"
    }
   ],
   "source": [
    "from sklearn.metrics import confusion_matrix\n",
    "cm=confusion_matrix(y_test,y_predict)\n",
    "cm"
   ]
  },
  {
   "cell_type": "code",
   "execution_count": 84,
   "metadata": {},
   "outputs": [
    {
     "data": {
      "text/plain": [
       "<matplotlib.axes._subplots.AxesSubplot at 0x7f2be095f8>"
      ]
     },
     "execution_count": 84,
     "metadata": {},
     "output_type": "execute_result"
    },
    {
     "data": {
      "image/png": "[encoded data removed]",
      "text/plain": [
       "<Figure size 432x288 with 2 Axes>"
      ]
     },
     "metadata": {
      "needs_background": "light"
     },
     "output_type": "display_data"
    }
   ],
   "source": [
    "sn.heatmap(cm,annot=True)"
   ]
  },
  {
   "cell_type": "code",
   "execution_count": 85,
   "metadata": {},
   "outputs": [
    {
     "data": {
      "text/plain": [
       "0.625"
      ]
     },
     "execution_count": 85,
     "metadata": {},
     "output_type": "execute_result"
    }
   ],
   "source": [
    "from sklearn.metrics import f1_score\n",
    "score=f1_score(y_test,y_predict,average='micro')\n",
    "score"
   ]
  },
  {
   "cell_type": "code",
   "execution_count": 71,
   "metadata": {},
   "outputs": [
    {
     "name": "stdout",
     "output_type": "stream",
     "text": [
      "              precision    recall  f1-score   support\n",
      "\n",
      "           3       0.00      0.00      0.00         2\n",
      "           4       1.00      0.05      0.09        22\n",
      "           5       0.64      0.72      0.68       203\n",
      "           6       0.57      0.66      0.61       183\n",
      "           7       0.65      0.41      0.50        64\n",
      "           8       0.00      0.00      0.00         6\n",
      "\n",
      "    accuracy                           0.61       480\n",
      "   macro avg       0.48      0.31      0.31       480\n",
      "weighted avg       0.62      0.61      0.59       480\n",
      "\n"
     ]
    },
    {
     "name": "stderr",
     "output_type": "stream",
     "text": [
      "E:\\Anaconda\\lib\\site-packages\\sklearn\\metrics\\_classification.py:1221: UndefinedMetricWarning: Precision and F-score are ill-defined and being set to 0.0 in labels with no predicted samples. Use `zero_division` parameter to control this behavior.\n",
      "  _warn_prf(average, modifier, msg_start, len(result))\n"
     ]
    }
   ],
   "source": [
    "from sklearn.metrics import classification_report\n",
    "cl=classification_report(y_test,y_predict)\n",
    "print(cl)"
   ]
  },
  {
   "cell_type": "code",
   "execution_count": 86,
   "metadata": {},
   "outputs": [],
   "source": [
    "y_predict=model1.predict(X_test)"
   ]
  },
  {
   "cell_type": "code",
   "execution_count": 87,
   "metadata": {},
   "outputs": [
    {
     "data": {
      "text/plain": [
       "array([[0.  , 0.15, 0.62, 0.23, 0.  , 0.  ],\n",
       "       [0.  , 0.  , 0.11, 0.14, 0.72, 0.03],\n",
       "       [0.  , 0.01, 0.65, 0.32, 0.02, 0.  ],\n",
       "       ...,\n",
       "       [0.  , 0.  , 0.47, 0.52, 0.01, 0.  ],\n",
       "       [0.  , 0.  , 0.78, 0.2 , 0.  , 0.02],\n",
       "       [0.  , 0.03, 0.68, 0.26, 0.03, 0.  ]])"
      ]
     },
     "execution_count": 87,
     "metadata": {},
     "output_type": "execute_result"
    }
   ],
   "source": [
    "y_predict=model1.predict_proba(X_test)\n",
    "y_predict"
   ]
  },
  {
   "cell_type": "code",
   "execution_count": 89,
   "metadata": {},
   "outputs": [
    {
     "data": {
      "text/plain": [
       "array([0.15, 0.  , 0.01, 0.01, 0.02, 0.02, 0.  , 0.  , 0.02, 0.  , 0.14,\n",
       "       0.04, 0.07, 0.  , 0.  , 0.  , 0.02, 0.  , 0.03, 0.  , 0.09, 0.25,\n",
       "       0.  , 0.04, 0.12, 0.  , 0.  , 0.04, 0.03, 0.11, 0.01, 0.12, 0.01,\n",
       "       0.  , 0.  , 0.  , 0.01, 0.02, 0.  , 0.04, 0.03, 0.  , 0.  , 0.04,\n",
       "       0.01, 0.08, 0.01, 0.04, 0.  , 0.02, 0.01, 0.  , 0.03, 0.  , 0.03,\n",
       "       0.01, 0.01, 0.01, 0.02, 0.01, 0.  , 0.  , 0.06, 0.  , 0.01, 0.06,\n",
       "       0.01, 0.01, 0.02, 0.03, 0.  , 0.  , 0.03, 0.01, 0.  , 0.  , 0.01,\n",
       "       0.05, 0.12, 0.  , 0.02, 0.02, 0.  , 0.  , 0.  , 0.03, 0.  , 0.02,\n",
       "       0.  , 0.01, 0.13, 0.  , 0.03, 0.  , 0.03, 0.01, 0.  , 0.  , 0.04,\n",
       "       0.05, 0.05, 0.03, 0.  , 0.  , 0.  , 0.  , 0.07, 0.04, 0.05, 0.01,\n",
       "       0.05, 0.01, 0.06, 0.  , 0.01, 0.  , 0.  , 0.  , 0.  , 0.03, 0.  ,\n",
       "       0.03, 0.  , 0.04, 0.01, 0.02, 0.02, 0.01, 0.  , 0.03, 0.01, 0.08,\n",
       "       0.  , 0.  , 0.  , 0.01, 0.  , 0.  , 0.15, 0.  , 0.08, 0.01, 0.19,\n",
       "       0.  , 0.01, 0.  , 0.  , 0.08, 0.01, 0.  , 0.  , 0.01, 0.02, 0.01,\n",
       "       0.02, 0.  , 0.01, 0.  , 0.09, 0.  , 0.  , 0.  , 0.03, 0.01, 0.  ,\n",
       "       0.03, 0.03, 0.17, 0.15, 0.  , 0.02, 0.1 , 0.  , 0.04, 0.13, 0.01,\n",
       "       0.06, 0.  , 0.  , 0.  , 0.  , 0.05, 0.02, 0.  , 0.11, 0.  , 0.03,\n",
       "       0.02, 0.  , 0.  , 0.02, 0.04, 0.01, 0.03, 0.01, 0.05, 0.  , 0.  ,\n",
       "       0.08, 0.  , 0.  , 0.  , 0.  , 0.07, 0.  , 0.05, 0.01, 0.01, 0.05,\n",
       "       0.01, 0.  , 0.05, 0.  , 0.  , 0.  , 0.01, 0.12, 0.  , 0.  , 0.  ,\n",
       "       0.01, 0.01, 0.04, 0.01, 0.02, 0.  , 0.02, 0.  , 0.  , 0.  , 0.  ,\n",
       "       0.01, 0.01, 0.  , 0.01, 0.01, 0.02, 0.02, 0.02, 0.04, 0.  , 0.06,\n",
       "       0.  , 0.01, 0.04, 0.  , 0.02, 0.26, 0.05, 0.02, 0.  , 0.01, 0.02,\n",
       "       0.02, 0.  , 0.  , 0.  , 0.  , 0.  , 0.  , 0.01, 0.  , 0.03, 0.  ,\n",
       "       0.01, 0.02, 0.  , 0.3 , 0.01, 0.  , 0.07, 0.  , 0.  , 0.  , 0.02,\n",
       "       0.  , 0.  , 0.02, 0.1 , 0.03, 0.  , 0.  , 0.01, 0.03, 0.  , 0.  ,\n",
       "       0.  , 0.26, 0.13, 0.  , 0.08, 0.  , 0.01, 0.  , 0.  , 0.15, 0.13,\n",
       "       0.02, 0.01, 0.01, 0.  , 0.02, 0.  , 0.  , 0.  , 0.  , 0.  , 0.01,\n",
       "       0.  , 0.03, 0.  , 0.  , 0.04, 0.  , 0.05, 0.  , 0.01, 0.  , 0.01,\n",
       "       0.  , 0.16, 0.01, 0.01, 0.05, 0.02, 0.  , 0.01, 0.06, 0.  , 0.  ,\n",
       "       0.  , 0.  , 0.01, 0.  , 0.14, 0.  , 0.01, 0.  , 0.03, 0.03, 0.06,\n",
       "       0.  , 0.  , 0.  , 0.  , 0.04, 0.  , 0.02, 0.01, 0.  , 0.02, 0.11,\n",
       "       0.02, 0.03, 0.02, 0.  , 0.02, 0.  , 0.01, 0.  , 0.  , 0.07, 0.03,\n",
       "       0.  , 0.  , 0.  , 0.  , 0.  , 0.01, 0.  , 0.06, 0.04, 0.  , 0.02,\n",
       "       0.03, 0.  , 0.02, 0.  , 0.01, 0.  , 0.  , 0.06, 0.04, 0.01, 0.01,\n",
       "       0.  , 0.12, 0.  , 0.  , 0.02, 0.04, 0.02, 0.26, 0.  , 0.01, 0.05,\n",
       "       0.06, 0.22, 0.02, 0.  , 0.04, 0.  , 0.03, 0.  , 0.  , 0.05, 0.  ,\n",
       "       0.  , 0.  , 0.  , 0.02, 0.04, 0.01, 0.  , 0.14, 0.  , 0.  , 0.04,\n",
       "       0.  , 0.  , 0.01, 0.  , 0.  , 0.  , 0.04, 0.01, 0.01, 0.  , 0.09,\n",
       "       0.02, 0.09, 0.01, 0.23, 0.02, 0.02, 0.  , 0.  , 0.19, 0.09, 0.07,\n",
       "       0.01, 0.07, 0.07, 0.06, 0.  , 0.04, 0.04, 0.  , 0.  , 0.  , 0.  ,\n",
       "       0.  , 0.01, 0.02, 0.05, 0.01, 0.  , 0.04, 0.1 , 0.  , 0.15, 0.02,\n",
       "       0.  , 0.06, 0.04, 0.08, 0.  , 0.01, 0.01, 0.01, 0.01, 0.03, 0.  ,\n",
       "       0.15, 0.  , 0.  , 0.  , 0.  , 0.  , 0.03])"
      ]
     },
     "execution_count": 89,
     "metadata": {},
     "output_type": "execute_result"
    }
   ],
   "source": [
    "proba=y_predict[:,1]\n",
    "proba"
   ]
  },
  {
   "cell_type": "code",
   "execution_count": 90,
   "metadata": {},
   "outputs": [],
   "source": [
    "pickle.dump(model1, open('model001.pkl','wb'))\n",
    "\n",
    "# Loading model to compare the results\n",
    "model = pickle.load(open('model001.pkl','rb'))"
   ]
  },
  {
   "cell_type": "code",
   "execution_count": null,
   "metadata": {},
   "outputs": [],
   "source": []
  },
  {
   "cell_type": "code",
   "execution_count": null,
   "metadata": {},
   "outputs": [],
   "source": []
  },
  {
   "cell_type": "code",
   "execution_count": null,
   "metadata": {},
   "outputs": [],
   "source": []
  }
 ],
 "metadata": {
  "kernelspec": {
   "display_name": "Python 3",
   "language": "python",
   "name": "python3"
  },
  "language_info": {
   "codemirror_mode": {
    "name": "ipython",
    "version": 3
   },
   "file_extension": ".py",
   "mimetype": "text/x-python",
   "name": "python",
   "nbconvert_exporter": "python",
   "pygments_lexer": "ipython3",
   "version": "3.7.3"
  }
 },
 "nbformat": 4,
 "nbformat_minor": 2
}
